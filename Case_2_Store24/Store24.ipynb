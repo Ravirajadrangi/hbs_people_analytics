{
 "cells": [
  {
   "cell_type": "markdown",
   "metadata": {},
   "source": [
    "# Store24"
   ]
  },
  {
   "cell_type": "markdown",
   "metadata": {},
   "source": [
    "In preparation for the (A) case class discussion, attempt to answer the questions posed in the case, summarized below, and come to class having decided which type of employee retention program you recommend for use at Store24.\n",
    "\n",
    "1. The first question in the case, posed by Doucette, relates to whether employee tenure is a driver of store level financial performance.\n",
    "\n",
    "2. The second question, posed by Gordon, is to determine how important tenure is in explaining financial performance, relative to site location factors.\n",
    "\n",
    "3. The third, posed by Hart, is quite difficult. Hart wants to know if the relationship between tenure and performance varies with tenure level.\n",
    "\n",
    "4. Based upon your analysis, what type of employee retention program do you recommend Store24 implement?"
   ]
  },
  {
   "cell_type": "markdown",
   "metadata": {},
   "source": [
    "<b> Key Questions </b>\n",
    "<li> Why only 75 of 82 stores? Probably not a random sample </li>\n",
    "<li> Why avg tenure 0 for some managers? </li>"
   ]
  },
  {
   "cell_type": "code",
   "execution_count": 37,
   "metadata": {
    "collapsed": true
   },
   "outputs": [],
   "source": [
    "import numpy as np\n",
    "import pandas as pd\n",
    "import seaborn as sns\n",
    "import statsmodels.api as sm\n",
    "from scipy.stats import ttest_ind\n",
    "\n",
    "import matplotlib.pyplot as plt\n",
    "%matplotlib inline\n",
    "plt.style.use('ggplot')"
   ]
  },
  {
   "cell_type": "code",
   "execution_count": 38,
   "metadata": {
    "collapsed": false
   },
   "outputs": [
    {
     "name": "stdout",
     "output_type": "stream",
     "text": [
      "PA_Store24A_data.dta  Store24.ipynb\r\n"
     ]
    }
   ],
   "source": [
    "ls"
   ]
  },
  {
   "cell_type": "code",
   "execution_count": 39,
   "metadata": {
    "collapsed": false
   },
   "outputs": [
    {
     "data": {
      "text/html": [
       "<div>\n",
       "<table border=\"1\" class=\"dataframe\">\n",
       "  <thead>\n",
       "    <tr style=\"text-align: right;\">\n",
       "      <th></th>\n",
       "      <th>sales</th>\n",
       "      <th>profit</th>\n",
       "      <th>mtenure</th>\n",
       "      <th>ctenure</th>\n",
       "      <th>pop</th>\n",
       "      <th>comp</th>\n",
       "      <th>visibility</th>\n",
       "      <th>pedcount</th>\n",
       "      <th>res</th>\n",
       "      <th>hours24</th>\n",
       "    </tr>\n",
       "    <tr>\n",
       "      <th>store</th>\n",
       "      <th></th>\n",
       "      <th></th>\n",
       "      <th></th>\n",
       "      <th></th>\n",
       "      <th></th>\n",
       "      <th></th>\n",
       "      <th></th>\n",
       "      <th></th>\n",
       "      <th></th>\n",
       "      <th></th>\n",
       "    </tr>\n",
       "  </thead>\n",
       "  <tbody>\n",
       "    <tr>\n",
       "      <th>1</th>\n",
       "      <td>1060294</td>\n",
       "      <td>265014</td>\n",
       "      <td>0.000000</td>\n",
       "      <td>24.804930</td>\n",
       "      <td>7535</td>\n",
       "      <td>2.797888</td>\n",
       "      <td>3</td>\n",
       "      <td>3</td>\n",
       "      <td>1</td>\n",
       "      <td>1</td>\n",
       "    </tr>\n",
       "    <tr>\n",
       "      <th>2</th>\n",
       "      <td>1619874</td>\n",
       "      <td>424007</td>\n",
       "      <td>86.222191</td>\n",
       "      <td>6.636550</td>\n",
       "      <td>8630</td>\n",
       "      <td>4.235555</td>\n",
       "      <td>4</td>\n",
       "      <td>3</td>\n",
       "      <td>1</td>\n",
       "      <td>1</td>\n",
       "    </tr>\n",
       "    <tr>\n",
       "      <th>3</th>\n",
       "      <td>1099921</td>\n",
       "      <td>222735</td>\n",
       "      <td>23.888540</td>\n",
       "      <td>5.026694</td>\n",
       "      <td>9695</td>\n",
       "      <td>4.494666</td>\n",
       "      <td>3</td>\n",
       "      <td>3</td>\n",
       "      <td>1</td>\n",
       "      <td>1</td>\n",
       "    </tr>\n",
       "    <tr>\n",
       "      <th>4</th>\n",
       "      <td>1053860</td>\n",
       "      <td>210122</td>\n",
       "      <td>0.000000</td>\n",
       "      <td>5.371663</td>\n",
       "      <td>2797</td>\n",
       "      <td>4.253946</td>\n",
       "      <td>4</td>\n",
       "      <td>2</td>\n",
       "      <td>1</td>\n",
       "      <td>1</td>\n",
       "    </tr>\n",
       "    <tr>\n",
       "      <th>5</th>\n",
       "      <td>1227841</td>\n",
       "      <td>300480</td>\n",
       "      <td>3.877370</td>\n",
       "      <td>6.866530</td>\n",
       "      <td>20335</td>\n",
       "      <td>1.651364</td>\n",
       "      <td>2</td>\n",
       "      <td>5</td>\n",
       "      <td>0</td>\n",
       "      <td>1</td>\n",
       "    </tr>\n",
       "  </tbody>\n",
       "</table>\n",
       "</div>"
      ],
      "text/plain": [
       "         sales  profit    mtenure    ctenure    pop      comp  visibility  \\\n",
       "store                                                                       \n",
       "1      1060294  265014   0.000000  24.804930   7535  2.797888           3   \n",
       "2      1619874  424007  86.222191   6.636550   8630  4.235555           4   \n",
       "3      1099921  222735  23.888540   5.026694   9695  4.494666           3   \n",
       "4      1053860  210122   0.000000   5.371663   2797  4.253946           4   \n",
       "5      1227841  300480   3.877370   6.866530  20335  1.651364           2   \n",
       "\n",
       "       pedcount  res  hours24  \n",
       "store                          \n",
       "1             3    1        1  \n",
       "2             3    1        1  \n",
       "3             3    1        1  \n",
       "4             2    1        1  \n",
       "5             5    0        1  "
      ]
     },
     "execution_count": 39,
     "metadata": {},
     "output_type": "execute_result"
    }
   ],
   "source": [
    "df = pd.io.stata.read_stata('PA_Store24A_data.dta')\n",
    "df.set_index('store', inplace=True)\n",
    "df.head()"
   ]
  },
  {
   "cell_type": "code",
   "execution_count": 40,
   "metadata": {
    "collapsed": false
   },
   "outputs": [
    {
     "data": {
      "text/html": [
       "<div>\n",
       "<table border=\"1\" class=\"dataframe\">\n",
       "  <thead>\n",
       "    <tr style=\"text-align: right;\">\n",
       "      <th></th>\n",
       "      <th>sales</th>\n",
       "      <th>profit</th>\n",
       "      <th>mtenure</th>\n",
       "      <th>ctenure</th>\n",
       "      <th>pop</th>\n",
       "      <th>comp</th>\n",
       "      <th>visibility</th>\n",
       "      <th>pedcount</th>\n",
       "      <th>res</th>\n",
       "      <th>hours24</th>\n",
       "    </tr>\n",
       "  </thead>\n",
       "  <tbody>\n",
       "    <tr>\n",
       "      <th>count</th>\n",
       "      <td>7.500000e+01</td>\n",
       "      <td>75.000000</td>\n",
       "      <td>75.000000</td>\n",
       "      <td>75.000000</td>\n",
       "      <td>75.000000</td>\n",
       "      <td>75.000000</td>\n",
       "      <td>75.000000</td>\n",
       "      <td>75.000000</td>\n",
       "      <td>75.000000</td>\n",
       "      <td>75.000000</td>\n",
       "    </tr>\n",
       "    <tr>\n",
       "      <th>mean</th>\n",
       "      <td>1.205413e+06</td>\n",
       "      <td>276313.613333</td>\n",
       "      <td>45.296444</td>\n",
       "      <td>13.931499</td>\n",
       "      <td>9825.586667</td>\n",
       "      <td>3.787751</td>\n",
       "      <td>3.080000</td>\n",
       "      <td>2.960000</td>\n",
       "      <td>0.960000</td>\n",
       "      <td>0.840000</td>\n",
       "    </tr>\n",
       "    <tr>\n",
       "      <th>std</th>\n",
       "      <td>3.045313e+05</td>\n",
       "      <td>89404.076338</td>\n",
       "      <td>57.671551</td>\n",
       "      <td>17.697517</td>\n",
       "      <td>5911.673770</td>\n",
       "      <td>1.311390</td>\n",
       "      <td>0.749053</td>\n",
       "      <td>0.992404</td>\n",
       "      <td>0.197279</td>\n",
       "      <td>0.369075</td>\n",
       "    </tr>\n",
       "    <tr>\n",
       "      <th>min</th>\n",
       "      <td>6.993060e+05</td>\n",
       "      <td>122180.000000</td>\n",
       "      <td>0.000000</td>\n",
       "      <td>0.887064</td>\n",
       "      <td>1046.000000</td>\n",
       "      <td>1.651364</td>\n",
       "      <td>2.000000</td>\n",
       "      <td>1.000000</td>\n",
       "      <td>0.000000</td>\n",
       "      <td>0.000000</td>\n",
       "    </tr>\n",
       "    <tr>\n",
       "      <th>25%</th>\n",
       "      <td>9.845790e+05</td>\n",
       "      <td>211003.500000</td>\n",
       "      <td>6.670391</td>\n",
       "      <td>4.394251</td>\n",
       "      <td>5616.500000</td>\n",
       "      <td>3.150663</td>\n",
       "      <td>3.000000</td>\n",
       "      <td>2.000000</td>\n",
       "      <td>1.000000</td>\n",
       "      <td>1.000000</td>\n",
       "    </tr>\n",
       "    <tr>\n",
       "      <th>50%</th>\n",
       "      <td>1.127332e+06</td>\n",
       "      <td>265014.000000</td>\n",
       "      <td>24.118561</td>\n",
       "      <td>7.211499</td>\n",
       "      <td>8896.000000</td>\n",
       "      <td>3.628561</td>\n",
       "      <td>3.000000</td>\n",
       "      <td>3.000000</td>\n",
       "      <td>1.000000</td>\n",
       "      <td>1.000000</td>\n",
       "    </tr>\n",
       "    <tr>\n",
       "      <th>75%</th>\n",
       "      <td>1.362388e+06</td>\n",
       "      <td>331313.500000</td>\n",
       "      <td>50.915125</td>\n",
       "      <td>17.215610</td>\n",
       "      <td>14104.000000</td>\n",
       "      <td>4.229525</td>\n",
       "      <td>4.000000</td>\n",
       "      <td>4.000000</td>\n",
       "      <td>1.000000</td>\n",
       "      <td>1.000000</td>\n",
       "    </tr>\n",
       "    <tr>\n",
       "      <th>max</th>\n",
       "      <td>2.113089e+06</td>\n",
       "      <td>518998.000000</td>\n",
       "      <td>277.987701</td>\n",
       "      <td>114.151901</td>\n",
       "      <td>26519.000000</td>\n",
       "      <td>11.127880</td>\n",
       "      <td>5.000000</td>\n",
       "      <td>5.000000</td>\n",
       "      <td>1.000000</td>\n",
       "      <td>1.000000</td>\n",
       "    </tr>\n",
       "  </tbody>\n",
       "</table>\n",
       "</div>"
      ],
      "text/plain": [
       "              sales         profit     mtenure     ctenure           pop  \\\n",
       "count  7.500000e+01      75.000000   75.000000   75.000000     75.000000   \n",
       "mean   1.205413e+06  276313.613333   45.296444   13.931499   9825.586667   \n",
       "std    3.045313e+05   89404.076338   57.671551   17.697517   5911.673770   \n",
       "min    6.993060e+05  122180.000000    0.000000    0.887064   1046.000000   \n",
       "25%    9.845790e+05  211003.500000    6.670391    4.394251   5616.500000   \n",
       "50%    1.127332e+06  265014.000000   24.118561    7.211499   8896.000000   \n",
       "75%    1.362388e+06  331313.500000   50.915125   17.215610  14104.000000   \n",
       "max    2.113089e+06  518998.000000  277.987701  114.151901  26519.000000   \n",
       "\n",
       "            comp  visibility   pedcount        res    hours24  \n",
       "count  75.000000   75.000000  75.000000  75.000000  75.000000  \n",
       "mean    3.787751    3.080000   2.960000   0.960000   0.840000  \n",
       "std     1.311390    0.749053   0.992404   0.197279   0.369075  \n",
       "min     1.651364    2.000000   1.000000   0.000000   0.000000  \n",
       "25%     3.150663    3.000000   2.000000   1.000000   1.000000  \n",
       "50%     3.628561    3.000000   3.000000   1.000000   1.000000  \n",
       "75%     4.229525    4.000000   4.000000   1.000000   1.000000  \n",
       "max    11.127880    5.000000   5.000000   1.000000   1.000000  "
      ]
     },
     "execution_count": 40,
     "metadata": {},
     "output_type": "execute_result"
    }
   ],
   "source": [
    "df.describe()"
   ]
  },
  {
   "cell_type": "code",
   "execution_count": 41,
   "metadata": {
    "collapsed": false
   },
   "outputs": [
    {
     "data": {
      "text/plain": [
       "sales         0\n",
       "profit        0\n",
       "mtenure       0\n",
       "ctenure       0\n",
       "pop           0\n",
       "comp          0\n",
       "visibility    0\n",
       "pedcount      0\n",
       "res           0\n",
       "hours24       0\n",
       "dtype: int64"
      ]
     },
     "execution_count": 41,
     "metadata": {},
     "output_type": "execute_result"
    }
   ],
   "source": [
    "df.isnull().sum()"
   ]
  },
  {
   "cell_type": "code",
   "execution_count": 72,
   "metadata": {
    "collapsed": false
   },
   "outputs": [],
   "source": [
    "# Need to convert from int16 to float so we can square this term\n",
    "df['pop'] = df.apply(lambda r: float(r['pop']) * 1.0, axis=1)"
   ]
  },
  {
   "cell_type": "code",
   "execution_count": 73,
   "metadata": {
    "collapsed": false
   },
   "outputs": [
    {
     "name": "stdout",
     "output_type": "stream",
     "text": [
      "sales int32\n",
      "profit int32\n",
      "mtenure float32\n",
      "ctenure float32\n",
      "pop float64\n",
      "comp float32\n",
      "visibility int8\n",
      "pedcount int8\n",
      "res int8\n",
      "hours24 int8\n",
      "mtenure_sq float32\n",
      "ctenure_sq float32\n",
      "pop_sq int16\n",
      "comp_sq float32\n",
      "visibility_sq int8\n",
      "pedcount_sq int8\n",
      "res_sq int8\n",
      "hours24_sq int8\n"
     ]
    }
   ],
   "source": [
    "for c in df.columns:\n",
    "    print (c, df[c].dtype)"
   ]
  },
  {
   "cell_type": "code",
   "execution_count": 43,
   "metadata": {
    "collapsed": false
   },
   "outputs": [
    {
     "data": {
      "text/plain": [
       "(75, 10)"
      ]
     },
     "execution_count": 43,
     "metadata": {},
     "output_type": "execute_result"
    }
   ],
   "source": [
    "df.shape"
   ]
  },
  {
   "cell_type": "code",
   "execution_count": 44,
   "metadata": {
    "collapsed": false
   },
   "outputs": [
    {
     "data": {
      "text/plain": [
       "<matplotlib.collections.PathCollection at 0x109552898>"
      ]
     },
     "execution_count": 44,
     "metadata": {},
     "output_type": "execute_result"
    },
    {
     "data": {
      "image/png": "[encoded data removed]",
      "text/plain": [
       "<matplotlib.figure.Figure at 0x109b7f5c0>"
      ]
     },
     "metadata": {},
     "output_type": "display_data"
    }
   ],
   "source": [
    "plt.scatter(df.profit, df.mtenure)"
   ]
  },
  {
   "cell_type": "code",
   "execution_count": 45,
   "metadata": {
    "collapsed": false
   },
   "outputs": [
    {
     "data": {
      "text/plain": [
       "<matplotlib.collections.PathCollection at 0x10983ec50>"
      ]
     },
     "execution_count": 45,
     "metadata": {},
     "output_type": "execute_result"
    },
    {
     "data": {
      "image/png": "[encoded data removed]",
      "text/plain": [
       "<matplotlib.figure.Figure at 0x10941d048>"
      ]
     },
     "metadata": {},
     "output_type": "display_data"
    }
   ],
   "source": [
    "plt.scatter(df.profit, df.ctenure)"
   ]
  },
  {
   "cell_type": "code",
   "execution_count": 46,
   "metadata": {
    "collapsed": false
   },
   "outputs": [
    {
     "data": {
      "image/png": "[encoded data removed]",
      "text/plain": [
       "<matplotlib.figure.Figure at 0x1096eb470>"
      ]
     },
     "metadata": {},
     "output_type": "display_data"
    }
   ],
   "source": [
    "plt.hist(df.profit, bins=30);"
   ]
  },
  {
   "cell_type": "code",
   "execution_count": 47,
   "metadata": {
    "collapsed": false
   },
   "outputs": [
    {
     "data": {
      "image/png": "[encoded data removed]",
      "text/plain": [
       "<matplotlib.figure.Figure at 0x1098424e0>"
      ]
     },
     "metadata": {},
     "output_type": "display_data"
    }
   ],
   "source": [
    "plt.hist(df.sales, bins=30);"
   ]
  },
  {
   "cell_type": "code",
   "execution_count": 48,
   "metadata": {
    "collapsed": true
   },
   "outputs": [],
   "source": [
    "df.profit_rate = df.profit / df.sales"
   ]
  },
  {
   "cell_type": "code",
   "execution_count": 49,
   "metadata": {
    "collapsed": false
   },
   "outputs": [
    {
     "data": {
      "image/png": "[encoded data removed]",
      "text/plain": [
       "<matplotlib.figure.Figure at 0x109f1d240>"
      ]
     },
     "metadata": {},
     "output_type": "display_data"
    }
   ],
   "source": [
    "plt.hist(df.profit_rate, bins=10);"
   ]
  },
  {
   "cell_type": "code",
   "execution_count": 53,
   "metadata": {
    "collapsed": false
   },
   "outputs": [
    {
     "name": "stdout",
     "output_type": "stream",
     "text": [
      "T-test results for Profit Rate | Manager Tenure:\n",
      "t-statistic: -6.77\n",
      "p-value: 0.00000\n"
     ]
    }
   ],
   "source": [
    "ttest_results = ttest_ind(df.profit_rate, df.mtenure, axis=0, equal_var=False)\n",
    "print('T-test results for Profit Rate | Manager Tenure:')\n",
    "print('t-statistic: {:.2f}'.format(ttest_results[0]))\n",
    "print('p-value: {:.5f}'.format(ttest_results[1]))"
   ]
  },
  {
   "cell_type": "code",
   "execution_count": 54,
   "metadata": {
    "collapsed": false
   },
   "outputs": [
    {
     "data": {
      "text/html": [
       "<table class=\"simpletable\">\n",
       "<caption>OLS Regression Results</caption>\n",
       "<tr>\n",
       "  <th>Dep. Variable:</th>            <td>y</td>        <th>  R-squared:         </th> <td>   0.029</td>\n",
       "</tr>\n",
       "<tr>\n",
       "  <th>Model:</th>                   <td>OLS</td>       <th>  Adj. R-squared:    </th> <td>   0.015</td>\n",
       "</tr>\n",
       "<tr>\n",
       "  <th>Method:</th>             <td>Least Squares</td>  <th>  F-statistic:       </th> <td>   2.144</td>\n",
       "</tr>\n",
       "<tr>\n",
       "  <th>Date:</th>             <td>Tue, 07 Feb 2017</td> <th>  Prob (F-statistic):</th>  <td> 0.147</td> \n",
       "</tr>\n",
       "<tr>\n",
       "  <th>Time:</th>                 <td>22:06:14</td>     <th>  Log-Likelihood:    </th> <td>  158.22</td>\n",
       "</tr>\n",
       "<tr>\n",
       "  <th>No. Observations:</th>      <td>    75</td>      <th>  AIC:               </th> <td>  -312.4</td>\n",
       "</tr>\n",
       "<tr>\n",
       "  <th>Df Residuals:</th>          <td>    73</td>      <th>  BIC:               </th> <td>  -307.8</td>\n",
       "</tr>\n",
       "<tr>\n",
       "  <th>Df Model:</th>              <td>     1</td>      <th>                     </th>     <td> </td>   \n",
       "</tr>\n",
       "<tr>\n",
       "  <th>Covariance Type:</th>      <td>nonrobust</td>    <th>                     </th>     <td> </td>   \n",
       "</tr>\n",
       "</table>\n",
       "<table class=\"simpletable\">\n",
       "<tr>\n",
       "     <td></td>        <th>coef</th>     <th>std err</th>      <th>t</th>      <th>P>|t|</th> <th>[95.0% Conf. Int.]</th> \n",
       "</tr>\n",
       "<tr>\n",
       "  <th>const</th>   <td>    0.2225</td> <td>    0.004</td> <td>   50.820</td> <td> 0.000</td> <td>    0.214     0.231</td>\n",
       "</tr>\n",
       "<tr>\n",
       "  <th>mtenure</th> <td>  8.78e-05</td> <td>    6e-05</td> <td>    1.464</td> <td> 0.147</td> <td>-3.17e-05     0.000</td>\n",
       "</tr>\n",
       "</table>\n",
       "<table class=\"simpletable\">\n",
       "<tr>\n",
       "  <th>Omnibus:</th>       <td> 1.111</td> <th>  Durbin-Watson:     </th> <td>   1.924</td>\n",
       "</tr>\n",
       "<tr>\n",
       "  <th>Prob(Omnibus):</th> <td> 0.574</td> <th>  Jarque-Bera (JB):  </th> <td>   0.742</td>\n",
       "</tr>\n",
       "<tr>\n",
       "  <th>Skew:</th>          <td>-0.239</td> <th>  Prob(JB):          </th> <td>   0.690</td>\n",
       "</tr>\n",
       "<tr>\n",
       "  <th>Kurtosis:</th>      <td> 3.097</td> <th>  Cond. No.          </th> <td>    93.1</td>\n",
       "</tr>\n",
       "</table>"
      ],
      "text/plain": [
       "<class 'statsmodels.iolib.summary.Summary'>\n",
       "\"\"\"\n",
       "                            OLS Regression Results                            \n",
       "==============================================================================\n",
       "Dep. Variable:                      y   R-squared:                       0.029\n",
       "Model:                            OLS   Adj. R-squared:                  0.015\n",
       "Method:                 Least Squares   F-statistic:                     2.144\n",
       "Date:                Tue, 07 Feb 2017   Prob (F-statistic):              0.147\n",
       "Time:                        22:06:14   Log-Likelihood:                 158.22\n",
       "No. Observations:                  75   AIC:                            -312.4\n",
       "Df Residuals:                      73   BIC:                            -307.8\n",
       "Df Model:                           1                                         \n",
       "Covariance Type:            nonrobust                                         \n",
       "==============================================================================\n",
       "                 coef    std err          t      P>|t|      [95.0% Conf. Int.]\n",
       "------------------------------------------------------------------------------\n",
       "const          0.2225      0.004     50.820      0.000         0.214     0.231\n",
       "mtenure      8.78e-05      6e-05      1.464      0.147     -3.17e-05     0.000\n",
       "==============================================================================\n",
       "Omnibus:                        1.111   Durbin-Watson:                   1.924\n",
       "Prob(Omnibus):                  0.574   Jarque-Bera (JB):                0.742\n",
       "Skew:                          -0.239   Prob(JB):                        0.690\n",
       "Kurtosis:                       3.097   Cond. No.                         93.1\n",
       "==============================================================================\n",
       "\n",
       "Warnings:\n",
       "[1] Standard Errors assume that the covariance matrix of the errors is correctly specified.\n",
       "\"\"\""
      ]
     },
     "execution_count": 54,
     "metadata": {},
     "output_type": "execute_result"
    }
   ],
   "source": [
    "X = sm.add_constant(df[[\n",
    "    'mtenure',\n",
    "]])\n",
    "sm.OLS(df.profit_rate, X).fit().summary()"
   ]
  },
  {
   "cell_type": "code",
   "execution_count": 55,
   "metadata": {
    "collapsed": false
   },
   "outputs": [
    {
     "name": "stdout",
     "output_type": "stream",
     "text": [
      "T-test results for Profit Rate | Crew Tenure:\n",
      "t-statistic: -6.71\n",
      "p-value: 0.00000\n"
     ]
    }
   ],
   "source": [
    "ttest_results = ttest_ind(df.profit_rate, df.ctenure, axis=0, equal_var=False)\n",
    "print('T-test results for Profit Rate | Crew Tenure:')\n",
    "print('t-statistic: {:.2f}'.format(ttest_results[0]))\n",
    "print('p-value: {:.5f}'.format(ttest_results[1]))"
   ]
  },
  {
   "cell_type": "markdown",
   "metadata": {},
   "source": [
    "## Profit Rate: Compare Predictive Power of Tenure vs Site Location Features"
   ]
  },
  {
   "cell_type": "code",
   "execution_count": 56,
   "metadata": {
    "collapsed": false
   },
   "outputs": [
    {
     "data": {
      "text/html": [
       "<table class=\"simpletable\">\n",
       "<caption>OLS Regression Results</caption>\n",
       "<tr>\n",
       "  <th>Dep. Variable:</th>            <td>y</td>        <th>  R-squared:         </th> <td>   0.042</td>\n",
       "</tr>\n",
       "<tr>\n",
       "  <th>Model:</th>                   <td>OLS</td>       <th>  Adj. R-squared:    </th> <td>   0.016</td>\n",
       "</tr>\n",
       "<tr>\n",
       "  <th>Method:</th>             <td>Least Squares</td>  <th>  F-statistic:       </th> <td>   1.590</td>\n",
       "</tr>\n",
       "<tr>\n",
       "  <th>Date:</th>             <td>Tue, 07 Feb 2017</td> <th>  Prob (F-statistic):</th>  <td> 0.211</td> \n",
       "</tr>\n",
       "<tr>\n",
       "  <th>Time:</th>                 <td>22:08:27</td>     <th>  Log-Likelihood:    </th> <td>  158.75</td>\n",
       "</tr>\n",
       "<tr>\n",
       "  <th>No. Observations:</th>      <td>    75</td>      <th>  AIC:               </th> <td>  -311.5</td>\n",
       "</tr>\n",
       "<tr>\n",
       "  <th>Df Residuals:</th>          <td>    72</td>      <th>  BIC:               </th> <td>  -304.6</td>\n",
       "</tr>\n",
       "<tr>\n",
       "  <th>Df Model:</th>              <td>     2</td>      <th>                     </th>     <td> </td>   \n",
       "</tr>\n",
       "<tr>\n",
       "  <th>Covariance Type:</th>      <td>nonrobust</td>    <th>                     </th>     <td> </td>   \n",
       "</tr>\n",
       "</table>\n",
       "<table class=\"simpletable\">\n",
       "<tr>\n",
       "     <td></td>        <th>coef</th>     <th>std err</th>      <th>t</th>      <th>P>|t|</th> <th>[95.0% Conf. Int.]</th> \n",
       "</tr>\n",
       "<tr>\n",
       "  <th>const</th>   <td>    0.2204</td> <td>    0.005</td> <td>   45.288</td> <td> 0.000</td> <td>    0.211     0.230</td>\n",
       "</tr>\n",
       "<tr>\n",
       "  <th>mtenure</th> <td> 7.249e-05</td> <td> 6.18e-05</td> <td>    1.173</td> <td> 0.245</td> <td>-5.07e-05     0.000</td>\n",
       "</tr>\n",
       "<tr>\n",
       "  <th>ctenure</th> <td>    0.0002</td> <td>    0.000</td> <td>    1.018</td> <td> 0.312</td> <td>   -0.000     0.001</td>\n",
       "</tr>\n",
       "</table>\n",
       "<table class=\"simpletable\">\n",
       "<tr>\n",
       "  <th>Omnibus:</th>       <td> 0.833</td> <th>  Durbin-Watson:     </th> <td>   1.966</td>\n",
       "</tr>\n",
       "<tr>\n",
       "  <th>Prob(Omnibus):</th> <td> 0.659</td> <th>  Jarque-Bera (JB):  </th> <td>   0.566</td>\n",
       "</tr>\n",
       "<tr>\n",
       "  <th>Skew:</th>          <td>-0.212</td> <th>  Prob(JB):          </th> <td>   0.754</td>\n",
       "</tr>\n",
       "<tr>\n",
       "  <th>Kurtosis:</th>      <td> 3.037</td> <th>  Cond. No.          </th> <td>    105.</td>\n",
       "</tr>\n",
       "</table>"
      ],
      "text/plain": [
       "<class 'statsmodels.iolib.summary.Summary'>\n",
       "\"\"\"\n",
       "                            OLS Regression Results                            \n",
       "==============================================================================\n",
       "Dep. Variable:                      y   R-squared:                       0.042\n",
       "Model:                            OLS   Adj. R-squared:                  0.016\n",
       "Method:                 Least Squares   F-statistic:                     1.590\n",
       "Date:                Tue, 07 Feb 2017   Prob (F-statistic):              0.211\n",
       "Time:                        22:08:27   Log-Likelihood:                 158.75\n",
       "No. Observations:                  75   AIC:                            -311.5\n",
       "Df Residuals:                      72   BIC:                            -304.6\n",
       "Df Model:                           2                                         \n",
       "Covariance Type:            nonrobust                                         \n",
       "==============================================================================\n",
       "                 coef    std err          t      P>|t|      [95.0% Conf. Int.]\n",
       "------------------------------------------------------------------------------\n",
       "const          0.2204      0.005     45.288      0.000         0.211     0.230\n",
       "mtenure     7.249e-05   6.18e-05      1.173      0.245     -5.07e-05     0.000\n",
       "ctenure        0.0002      0.000      1.018      0.312        -0.000     0.001\n",
       "==============================================================================\n",
       "Omnibus:                        0.833   Durbin-Watson:                   1.966\n",
       "Prob(Omnibus):                  0.659   Jarque-Bera (JB):                0.566\n",
       "Skew:                          -0.212   Prob(JB):                        0.754\n",
       "Kurtosis:                       3.037   Cond. No.                         105.\n",
       "==============================================================================\n",
       "\n",
       "Warnings:\n",
       "[1] Standard Errors assume that the covariance matrix of the errors is correctly specified.\n",
       "\"\"\""
      ]
     },
     "execution_count": 56,
     "metadata": {},
     "output_type": "execute_result"
    }
   ],
   "source": [
    "X = sm.add_constant(df[[\n",
    "    'mtenure',\n",
    "    'ctenure',\n",
    "]])\n",
    "sm.OLS(df.profit_rate, X).fit().summary()"
   ]
  },
  {
   "cell_type": "code",
   "execution_count": 57,
   "metadata": {
    "collapsed": false
   },
   "outputs": [
    {
     "data": {
      "text/html": [
       "<table class=\"simpletable\">\n",
       "<caption>OLS Regression Results</caption>\n",
       "<tr>\n",
       "  <th>Dep. Variable:</th>            <td>y</td>        <th>  R-squared:         </th> <td>   0.227</td>\n",
       "</tr>\n",
       "<tr>\n",
       "  <th>Model:</th>                   <td>OLS</td>       <th>  Adj. R-squared:    </th> <td>   0.159</td>\n",
       "</tr>\n",
       "<tr>\n",
       "  <th>Method:</th>             <td>Least Squares</td>  <th>  F-statistic:       </th> <td>   3.327</td>\n",
       "</tr>\n",
       "<tr>\n",
       "  <th>Date:</th>             <td>Tue, 07 Feb 2017</td> <th>  Prob (F-statistic):</th>  <td>0.00623</td>\n",
       "</tr>\n",
       "<tr>\n",
       "  <th>Time:</th>                 <td>22:08:37</td>     <th>  Log-Likelihood:    </th> <td>  166.79</td>\n",
       "</tr>\n",
       "<tr>\n",
       "  <th>No. Observations:</th>      <td>    75</td>      <th>  AIC:               </th> <td>  -319.6</td>\n",
       "</tr>\n",
       "<tr>\n",
       "  <th>Df Residuals:</th>          <td>    68</td>      <th>  BIC:               </th> <td>  -303.4</td>\n",
       "</tr>\n",
       "<tr>\n",
       "  <th>Df Model:</th>              <td>     6</td>      <th>                     </th>     <td> </td>   \n",
       "</tr>\n",
       "<tr>\n",
       "  <th>Covariance Type:</th>      <td>nonrobust</td>    <th>                     </th>     <td> </td>   \n",
       "</tr>\n",
       "</table>\n",
       "<table class=\"simpletable\">\n",
       "<tr>\n",
       "       <td></td>         <th>coef</th>     <th>std err</th>      <th>t</th>      <th>P>|t|</th> <th>[95.0% Conf. Int.]</th> \n",
       "</tr>\n",
       "<tr>\n",
       "  <th>const</th>      <td>    0.2152</td> <td>    0.030</td> <td>    7.098</td> <td> 0.000</td> <td>    0.155     0.276</td>\n",
       "</tr>\n",
       "<tr>\n",
       "  <th>pop</th>        <td> 3.347e-07</td> <td> 7.02e-07</td> <td>    0.477</td> <td> 0.635</td> <td>-1.07e-06  1.74e-06</td>\n",
       "</tr>\n",
       "<tr>\n",
       "  <th>comp</th>       <td>   -0.0085</td> <td>    0.003</td> <td>   -3.282</td> <td> 0.002</td> <td>   -0.014    -0.003</td>\n",
       "</tr>\n",
       "<tr>\n",
       "  <th>visibility</th> <td>    0.0053</td> <td>    0.004</td> <td>    1.227</td> <td> 0.224</td> <td>   -0.003     0.014</td>\n",
       "</tr>\n",
       "<tr>\n",
       "  <th>pedcount</th>   <td>    0.0056</td> <td>    0.004</td> <td>    1.312</td> <td> 0.194</td> <td>   -0.003     0.014</td>\n",
       "</tr>\n",
       "<tr>\n",
       "  <th>res</th>        <td>    0.0104</td> <td>    0.018</td> <td>    0.589</td> <td> 0.558</td> <td>   -0.025     0.045</td>\n",
       "</tr>\n",
       "<tr>\n",
       "  <th>hours24</th>    <td>   -0.0031</td> <td>    0.009</td> <td>   -0.338</td> <td> 0.737</td> <td>   -0.022     0.015</td>\n",
       "</tr>\n",
       "</table>\n",
       "<table class=\"simpletable\">\n",
       "<tr>\n",
       "  <th>Omnibus:</th>       <td> 2.296</td> <th>  Durbin-Watson:     </th> <td>   2.251</td>\n",
       "</tr>\n",
       "<tr>\n",
       "  <th>Prob(Omnibus):</th> <td> 0.317</td> <th>  Jarque-Bera (JB):  </th> <td>   1.586</td>\n",
       "</tr>\n",
       "<tr>\n",
       "  <th>Skew:</th>          <td> 0.233</td> <th>  Prob(JB):          </th> <td>   0.452</td>\n",
       "</tr>\n",
       "<tr>\n",
       "  <th>Kurtosis:</th>      <td> 3.540</td> <th>  Cond. No.          </th> <td>1.20e+05</td>\n",
       "</tr>\n",
       "</table>"
      ],
      "text/plain": [
       "<class 'statsmodels.iolib.summary.Summary'>\n",
       "\"\"\"\n",
       "                            OLS Regression Results                            \n",
       "==============================================================================\n",
       "Dep. Variable:                      y   R-squared:                       0.227\n",
       "Model:                            OLS   Adj. R-squared:                  0.159\n",
       "Method:                 Least Squares   F-statistic:                     3.327\n",
       "Date:                Tue, 07 Feb 2017   Prob (F-statistic):            0.00623\n",
       "Time:                        22:08:37   Log-Likelihood:                 166.79\n",
       "No. Observations:                  75   AIC:                            -319.6\n",
       "Df Residuals:                      68   BIC:                            -303.4\n",
       "Df Model:                           6                                         \n",
       "Covariance Type:            nonrobust                                         \n",
       "==============================================================================\n",
       "                 coef    std err          t      P>|t|      [95.0% Conf. Int.]\n",
       "------------------------------------------------------------------------------\n",
       "const          0.2152      0.030      7.098      0.000         0.155     0.276\n",
       "pop         3.347e-07   7.02e-07      0.477      0.635     -1.07e-06  1.74e-06\n",
       "comp          -0.0085      0.003     -3.282      0.002        -0.014    -0.003\n",
       "visibility     0.0053      0.004      1.227      0.224        -0.003     0.014\n",
       "pedcount       0.0056      0.004      1.312      0.194        -0.003     0.014\n",
       "res            0.0104      0.018      0.589      0.558        -0.025     0.045\n",
       "hours24       -0.0031      0.009     -0.338      0.737        -0.022     0.015\n",
       "==============================================================================\n",
       "Omnibus:                        2.296   Durbin-Watson:                   2.251\n",
       "Prob(Omnibus):                  0.317   Jarque-Bera (JB):                1.586\n",
       "Skew:                           0.233   Prob(JB):                        0.452\n",
       "Kurtosis:                       3.540   Cond. No.                     1.20e+05\n",
       "==============================================================================\n",
       "\n",
       "Warnings:\n",
       "[1] Standard Errors assume that the covariance matrix of the errors is correctly specified.\n",
       "[2] The condition number is large, 1.2e+05. This might indicate that there are\n",
       "strong multicollinearity or other numerical problems.\n",
       "\"\"\""
      ]
     },
     "execution_count": 57,
     "metadata": {},
     "output_type": "execute_result"
    }
   ],
   "source": [
    "X = sm.add_constant(df[[\n",
    "    'pop',\n",
    "    'comp',\n",
    "    'visibility',\n",
    "    'pedcount',\n",
    "    'res',\n",
    "    'hours24',\n",
    "]])\n",
    "sm.OLS(df.profit_rate, X).fit().summary()"
   ]
  },
  {
   "cell_type": "markdown",
   "metadata": {},
   "source": [
    "## Absolute Profit: Compare Predictive Power of Tenure vs Site Location Features"
   ]
  },
  {
   "cell_type": "code",
   "execution_count": 58,
   "metadata": {
    "collapsed": false
   },
   "outputs": [
    {
     "data": {
      "text/html": [
       "<table class=\"simpletable\">\n",
       "<caption>OLS Regression Results</caption>\n",
       "<tr>\n",
       "  <th>Dep. Variable:</th>         <td>profit</td>      <th>  R-squared:         </th> <td>   0.217</td>\n",
       "</tr>\n",
       "<tr>\n",
       "  <th>Model:</th>                   <td>OLS</td>       <th>  Adj. R-squared:    </th> <td>   0.195</td>\n",
       "</tr>\n",
       "<tr>\n",
       "  <th>Method:</th>             <td>Least Squares</td>  <th>  F-statistic:       </th> <td>   9.965</td>\n",
       "</tr>\n",
       "<tr>\n",
       "  <th>Date:</th>             <td>Tue, 07 Feb 2017</td> <th>  Prob (F-statistic):</th> <td>0.000151</td>\n",
       "</tr>\n",
       "<tr>\n",
       "  <th>Time:</th>                 <td>22:10:17</td>     <th>  Log-Likelihood:    </th> <td> -951.82</td>\n",
       "</tr>\n",
       "<tr>\n",
       "  <th>No. Observations:</th>      <td>    75</td>      <th>  AIC:               </th> <td>   1910.</td>\n",
       "</tr>\n",
       "<tr>\n",
       "  <th>Df Residuals:</th>          <td>    72</td>      <th>  BIC:               </th> <td>   1917.</td>\n",
       "</tr>\n",
       "<tr>\n",
       "  <th>Df Model:</th>              <td>     2</td>      <th>                     </th>     <td> </td>   \n",
       "</tr>\n",
       "<tr>\n",
       "  <th>Covariance Type:</th>      <td>nonrobust</td>    <th>                     </th>     <td> </td>   \n",
       "</tr>\n",
       "</table>\n",
       "<table class=\"simpletable\">\n",
       "<tr>\n",
       "     <td></td>        <th>coef</th>     <th>std err</th>      <th>t</th>      <th>P>|t|</th> <th>[95.0% Conf. Int.]</th> \n",
       "</tr>\n",
       "<tr>\n",
       "  <th>const</th>   <td>  2.37e+05</td> <td> 1.31e+04</td> <td>   18.054</td> <td> 0.000</td> <td> 2.11e+05  2.63e+05</td>\n",
       "</tr>\n",
       "<tr>\n",
       "  <th>mtenure</th> <td>  619.8417</td> <td>  166.696</td> <td>    3.718</td> <td> 0.000</td> <td>  287.539   952.144</td>\n",
       "</tr>\n",
       "<tr>\n",
       "  <th>ctenure</th> <td>  810.1289</td> <td>  543.219</td> <td>    1.491</td> <td> 0.140</td> <td> -272.758  1893.015</td>\n",
       "</tr>\n",
       "</table>\n",
       "<table class=\"simpletable\">\n",
       "<tr>\n",
       "  <th>Omnibus:</th>       <td> 2.121</td> <th>  Durbin-Watson:     </th> <td>   1.394</td>\n",
       "</tr>\n",
       "<tr>\n",
       "  <th>Prob(Omnibus):</th> <td> 0.346</td> <th>  Jarque-Bera (JB):  </th> <td>   2.109</td>\n",
       "</tr>\n",
       "<tr>\n",
       "  <th>Skew:</th>          <td> 0.361</td> <th>  Prob(JB):          </th> <td>   0.348</td>\n",
       "</tr>\n",
       "<tr>\n",
       "  <th>Kurtosis:</th>      <td> 2.608</td> <th>  Cond. No.          </th> <td>    105.</td>\n",
       "</tr>\n",
       "</table>"
      ],
      "text/plain": [
       "<class 'statsmodels.iolib.summary.Summary'>\n",
       "\"\"\"\n",
       "                            OLS Regression Results                            \n",
       "==============================================================================\n",
       "Dep. Variable:                 profit   R-squared:                       0.217\n",
       "Model:                            OLS   Adj. R-squared:                  0.195\n",
       "Method:                 Least Squares   F-statistic:                     9.965\n",
       "Date:                Tue, 07 Feb 2017   Prob (F-statistic):           0.000151\n",
       "Time:                        22:10:17   Log-Likelihood:                -951.82\n",
       "No. Observations:                  75   AIC:                             1910.\n",
       "Df Residuals:                      72   BIC:                             1917.\n",
       "Df Model:                           2                                         \n",
       "Covariance Type:            nonrobust                                         \n",
       "==============================================================================\n",
       "                 coef    std err          t      P>|t|      [95.0% Conf. Int.]\n",
       "------------------------------------------------------------------------------\n",
       "const        2.37e+05   1.31e+04     18.054      0.000      2.11e+05  2.63e+05\n",
       "mtenure      619.8417    166.696      3.718      0.000       287.539   952.144\n",
       "ctenure      810.1289    543.219      1.491      0.140      -272.758  1893.015\n",
       "==============================================================================\n",
       "Omnibus:                        2.121   Durbin-Watson:                   1.394\n",
       "Prob(Omnibus):                  0.346   Jarque-Bera (JB):                2.109\n",
       "Skew:                           0.361   Prob(JB):                        0.348\n",
       "Kurtosis:                       2.608   Cond. No.                         105.\n",
       "==============================================================================\n",
       "\n",
       "Warnings:\n",
       "[1] Standard Errors assume that the covariance matrix of the errors is correctly specified.\n",
       "\"\"\""
      ]
     },
     "execution_count": 58,
     "metadata": {},
     "output_type": "execute_result"
    }
   ],
   "source": [
    "X = sm.add_constant(df[[\n",
    "    'mtenure',\n",
    "    'ctenure',\n",
    "]])\n",
    "sm.OLS(df.profit, X).fit().summary()"
   ]
  },
  {
   "cell_type": "code",
   "execution_count": 59,
   "metadata": {
    "collapsed": false
   },
   "outputs": [
    {
     "data": {
      "text/html": [
       "<table class=\"simpletable\">\n",
       "<caption>OLS Regression Results</caption>\n",
       "<tr>\n",
       "  <th>Dep. Variable:</th>         <td>profit</td>      <th>  R-squared:         </th> <td>   0.356</td>\n",
       "</tr>\n",
       "<tr>\n",
       "  <th>Model:</th>                   <td>OLS</td>       <th>  Adj. R-squared:    </th> <td>   0.299</td>\n",
       "</tr>\n",
       "<tr>\n",
       "  <th>Method:</th>             <td>Least Squares</td>  <th>  F-statistic:       </th> <td>   6.261</td>\n",
       "</tr>\n",
       "<tr>\n",
       "  <th>Date:</th>             <td>Tue, 07 Feb 2017</td> <th>  Prob (F-statistic):</th> <td>2.83e-05</td>\n",
       "</tr>\n",
       "<tr>\n",
       "  <th>Time:</th>                 <td>22:10:34</td>     <th>  Log-Likelihood:    </th> <td> -944.49</td>\n",
       "</tr>\n",
       "<tr>\n",
       "  <th>No. Observations:</th>      <td>    75</td>      <th>  AIC:               </th> <td>   1903.</td>\n",
       "</tr>\n",
       "<tr>\n",
       "  <th>Df Residuals:</th>          <td>    68</td>      <th>  BIC:               </th> <td>   1919.</td>\n",
       "</tr>\n",
       "<tr>\n",
       "  <th>Df Model:</th>              <td>     6</td>      <th>                     </th>     <td> </td>   \n",
       "</tr>\n",
       "<tr>\n",
       "  <th>Covariance Type:</th>      <td>nonrobust</td>    <th>                     </th>     <td> </td>   \n",
       "</tr>\n",
       "</table>\n",
       "<table class=\"simpletable\">\n",
       "<tr>\n",
       "       <td></td>         <th>coef</th>     <th>std err</th>      <th>t</th>      <th>P>|t|</th> <th>[95.0% Conf. Int.]</th> \n",
       "</tr>\n",
       "<tr>\n",
       "  <th>const</th>      <td> 8.389e+04</td> <td> 8.25e+04</td> <td>    1.016</td> <td> 0.313</td> <td>-8.08e+04  2.49e+05</td>\n",
       "</tr>\n",
       "<tr>\n",
       "  <th>pop</th>        <td>    2.7354</td> <td>    1.911</td> <td>    1.431</td> <td> 0.157</td> <td>   -1.078     6.549</td>\n",
       "</tr>\n",
       "<tr>\n",
       "  <th>comp</th>       <td>-1.828e+04</td> <td> 7044.851</td> <td>   -2.595</td> <td> 0.012</td> <td>-3.23e+04 -4222.757</td>\n",
       "</tr>\n",
       "<tr>\n",
       "  <th>visibility</th> <td> 2.372e+04</td> <td> 1.18e+04</td> <td>    2.018</td> <td> 0.048</td> <td>  267.118  4.72e+04</td>\n",
       "</tr>\n",
       "<tr>\n",
       "  <th>pedcount</th>   <td> 3.503e+04</td> <td> 1.16e+04</td> <td>    3.010</td> <td> 0.004</td> <td> 1.18e+04  5.83e+04</td>\n",
       "</tr>\n",
       "<tr>\n",
       "  <th>res</th>        <td>  2.81e+04</td> <td> 4.79e+04</td> <td>    0.586</td> <td> 0.560</td> <td>-6.75e+04  1.24e+05</td>\n",
       "</tr>\n",
       "<tr>\n",
       "  <th>hours24</th>    <td> 3.699e+04</td> <td> 2.52e+04</td> <td>    1.467</td> <td> 0.147</td> <td>-1.33e+04  8.73e+04</td>\n",
       "</tr>\n",
       "</table>\n",
       "<table class=\"simpletable\">\n",
       "<tr>\n",
       "  <th>Omnibus:</th>       <td> 3.895</td> <th>  Durbin-Watson:     </th> <td>   2.191</td>\n",
       "</tr>\n",
       "<tr>\n",
       "  <th>Prob(Omnibus):</th> <td> 0.143</td> <th>  Jarque-Bera (JB):  </th> <td>   3.657</td>\n",
       "</tr>\n",
       "<tr>\n",
       "  <th>Skew:</th>          <td> 0.539</td> <th>  Prob(JB):          </th> <td>   0.161</td>\n",
       "</tr>\n",
       "<tr>\n",
       "  <th>Kurtosis:</th>      <td> 2.918</td> <th>  Cond. No.          </th> <td>1.20e+05</td>\n",
       "</tr>\n",
       "</table>"
      ],
      "text/plain": [
       "<class 'statsmodels.iolib.summary.Summary'>\n",
       "\"\"\"\n",
       "                            OLS Regression Results                            \n",
       "==============================================================================\n",
       "Dep. Variable:                 profit   R-squared:                       0.356\n",
       "Model:                            OLS   Adj. R-squared:                  0.299\n",
       "Method:                 Least Squares   F-statistic:                     6.261\n",
       "Date:                Tue, 07 Feb 2017   Prob (F-statistic):           2.83e-05\n",
       "Time:                        22:10:34   Log-Likelihood:                -944.49\n",
       "No. Observations:                  75   AIC:                             1903.\n",
       "Df Residuals:                      68   BIC:                             1919.\n",
       "Df Model:                           6                                         \n",
       "Covariance Type:            nonrobust                                         \n",
       "==============================================================================\n",
       "                 coef    std err          t      P>|t|      [95.0% Conf. Int.]\n",
       "------------------------------------------------------------------------------\n",
       "const       8.389e+04   8.25e+04      1.016      0.313     -8.08e+04  2.49e+05\n",
       "pop            2.7354      1.911      1.431      0.157        -1.078     6.549\n",
       "comp       -1.828e+04   7044.851     -2.595      0.012     -3.23e+04 -4222.757\n",
       "visibility  2.372e+04   1.18e+04      2.018      0.048       267.118  4.72e+04\n",
       "pedcount    3.503e+04   1.16e+04      3.010      0.004      1.18e+04  5.83e+04\n",
       "res          2.81e+04   4.79e+04      0.586      0.560     -6.75e+04  1.24e+05\n",
       "hours24     3.699e+04   2.52e+04      1.467      0.147     -1.33e+04  8.73e+04\n",
       "==============================================================================\n",
       "Omnibus:                        3.895   Durbin-Watson:                   2.191\n",
       "Prob(Omnibus):                  0.143   Jarque-Bera (JB):                3.657\n",
       "Skew:                           0.539   Prob(JB):                        0.161\n",
       "Kurtosis:                       2.918   Cond. No.                     1.20e+05\n",
       "==============================================================================\n",
       "\n",
       "Warnings:\n",
       "[1] Standard Errors assume that the covariance matrix of the errors is correctly specified.\n",
       "[2] The condition number is large, 1.2e+05. This might indicate that there are\n",
       "strong multicollinearity or other numerical problems.\n",
       "\"\"\""
      ]
     },
     "execution_count": 59,
     "metadata": {},
     "output_type": "execute_result"
    }
   ],
   "source": [
    "X = sm.add_constant(df[[\n",
    "    'pop',\n",
    "    'comp',\n",
    "    'visibility',\n",
    "    'pedcount',\n",
    "    'res',\n",
    "    'hours24',\n",
    "]])\n",
    "sm.OLS(df.profit, X).fit().summary()"
   ]
  },
  {
   "cell_type": "markdown",
   "metadata": {},
   "source": [
    "## Consider Squared Terms"
   ]
  },
  {
   "cell_type": "code",
   "execution_count": 74,
   "metadata": {
    "collapsed": false
   },
   "outputs": [
    {
     "data": {
      "text/html": [
       "<div>\n",
       "<table border=\"1\" class=\"dataframe\">\n",
       "  <thead>\n",
       "    <tr style=\"text-align: right;\">\n",
       "      <th></th>\n",
       "      <th>sales</th>\n",
       "      <th>profit</th>\n",
       "      <th>mtenure</th>\n",
       "      <th>ctenure</th>\n",
       "      <th>pop</th>\n",
       "      <th>comp</th>\n",
       "      <th>visibility</th>\n",
       "      <th>pedcount</th>\n",
       "      <th>res</th>\n",
       "      <th>hours24</th>\n",
       "      <th>mtenure_sq</th>\n",
       "      <th>ctenure_sq</th>\n",
       "      <th>pop_sq</th>\n",
       "      <th>comp_sq</th>\n",
       "      <th>visibility_sq</th>\n",
       "      <th>pedcount_sq</th>\n",
       "      <th>res_sq</th>\n",
       "      <th>hours24_sq</th>\n",
       "    </tr>\n",
       "    <tr>\n",
       "      <th>store</th>\n",
       "      <th></th>\n",
       "      <th></th>\n",
       "      <th></th>\n",
       "      <th></th>\n",
       "      <th></th>\n",
       "      <th></th>\n",
       "      <th></th>\n",
       "      <th></th>\n",
       "      <th></th>\n",
       "      <th></th>\n",
       "      <th></th>\n",
       "      <th></th>\n",
       "      <th></th>\n",
       "      <th></th>\n",
       "      <th></th>\n",
       "      <th></th>\n",
       "      <th></th>\n",
       "      <th></th>\n",
       "    </tr>\n",
       "  </thead>\n",
       "  <tbody>\n",
       "    <tr>\n",
       "      <th>1</th>\n",
       "      <td>1060294</td>\n",
       "      <td>265014</td>\n",
       "      <td>0.000000</td>\n",
       "      <td>24.804930</td>\n",
       "      <td>7535.0</td>\n",
       "      <td>2.797888</td>\n",
       "      <td>3</td>\n",
       "      <td>3</td>\n",
       "      <td>1</td>\n",
       "      <td>1</td>\n",
       "      <td>0.000000</td>\n",
       "      <td>615.284546</td>\n",
       "      <td>56776225.0</td>\n",
       "      <td>7.828177</td>\n",
       "      <td>9</td>\n",
       "      <td>9</td>\n",
       "      <td>1</td>\n",
       "      <td>1</td>\n",
       "    </tr>\n",
       "    <tr>\n",
       "      <th>2</th>\n",
       "      <td>1619874</td>\n",
       "      <td>424007</td>\n",
       "      <td>86.222191</td>\n",
       "      <td>6.636550</td>\n",
       "      <td>8630.0</td>\n",
       "      <td>4.235555</td>\n",
       "      <td>4</td>\n",
       "      <td>3</td>\n",
       "      <td>1</td>\n",
       "      <td>1</td>\n",
       "      <td>7434.266113</td>\n",
       "      <td>44.043797</td>\n",
       "      <td>74476900.0</td>\n",
       "      <td>17.939928</td>\n",
       "      <td>16</td>\n",
       "      <td>9</td>\n",
       "      <td>1</td>\n",
       "      <td>1</td>\n",
       "    </tr>\n",
       "    <tr>\n",
       "      <th>3</th>\n",
       "      <td>1099921</td>\n",
       "      <td>222735</td>\n",
       "      <td>23.888540</td>\n",
       "      <td>5.026694</td>\n",
       "      <td>9695.0</td>\n",
       "      <td>4.494666</td>\n",
       "      <td>3</td>\n",
       "      <td>3</td>\n",
       "      <td>1</td>\n",
       "      <td>1</td>\n",
       "      <td>570.662354</td>\n",
       "      <td>25.267651</td>\n",
       "      <td>93993025.0</td>\n",
       "      <td>20.202023</td>\n",
       "      <td>9</td>\n",
       "      <td>9</td>\n",
       "      <td>1</td>\n",
       "      <td>1</td>\n",
       "    </tr>\n",
       "    <tr>\n",
       "      <th>4</th>\n",
       "      <td>1053860</td>\n",
       "      <td>210122</td>\n",
       "      <td>0.000000</td>\n",
       "      <td>5.371663</td>\n",
       "      <td>2797.0</td>\n",
       "      <td>4.253946</td>\n",
       "      <td>4</td>\n",
       "      <td>2</td>\n",
       "      <td>1</td>\n",
       "      <td>1</td>\n",
       "      <td>0.000000</td>\n",
       "      <td>28.854765</td>\n",
       "      <td>7823209.0</td>\n",
       "      <td>18.096056</td>\n",
       "      <td>16</td>\n",
       "      <td>4</td>\n",
       "      <td>1</td>\n",
       "      <td>1</td>\n",
       "    </tr>\n",
       "    <tr>\n",
       "      <th>5</th>\n",
       "      <td>1227841</td>\n",
       "      <td>300480</td>\n",
       "      <td>3.877370</td>\n",
       "      <td>6.866530</td>\n",
       "      <td>20335.0</td>\n",
       "      <td>1.651364</td>\n",
       "      <td>2</td>\n",
       "      <td>5</td>\n",
       "      <td>0</td>\n",
       "      <td>1</td>\n",
       "      <td>15.033999</td>\n",
       "      <td>47.149235</td>\n",
       "      <td>413512225.0</td>\n",
       "      <td>2.727003</td>\n",
       "      <td>4</td>\n",
       "      <td>25</td>\n",
       "      <td>0</td>\n",
       "      <td>1</td>\n",
       "    </tr>\n",
       "  </tbody>\n",
       "</table>\n",
       "</div>"
      ],
      "text/plain": [
       "         sales  profit    mtenure    ctenure      pop      comp  visibility  \\\n",
       "store                                                                         \n",
       "1      1060294  265014   0.000000  24.804930   7535.0  2.797888           3   \n",
       "2      1619874  424007  86.222191   6.636550   8630.0  4.235555           4   \n",
       "3      1099921  222735  23.888540   5.026694   9695.0  4.494666           3   \n",
       "4      1053860  210122   0.000000   5.371663   2797.0  4.253946           4   \n",
       "5      1227841  300480   3.877370   6.866530  20335.0  1.651364           2   \n",
       "\n",
       "       pedcount  res  hours24   mtenure_sq  ctenure_sq       pop_sq  \\\n",
       "store                                                                 \n",
       "1             3    1        1     0.000000  615.284546   56776225.0   \n",
       "2             3    1        1  7434.266113   44.043797   74476900.0   \n",
       "3             3    1        1   570.662354   25.267651   93993025.0   \n",
       "4             2    1        1     0.000000   28.854765    7823209.0   \n",
       "5             5    0        1    15.033999   47.149235  413512225.0   \n",
       "\n",
       "         comp_sq  visibility_sq  pedcount_sq  res_sq  hours24_sq  \n",
       "store                                                             \n",
       "1       7.828177              9            9       1           1  \n",
       "2      17.939928             16            9       1           1  \n",
       "3      20.202023              9            9       1           1  \n",
       "4      18.096056             16            4       1           1  \n",
       "5       2.727003              4           25       0           1  "
      ]
     },
     "execution_count": 74,
     "metadata": {},
     "output_type": "execute_result"
    }
   ],
   "source": [
    "col_to_square = [\n",
    "    'mtenure',\n",
    "    'ctenure',\n",
    "    'pop',\n",
    "    'comp',\n",
    "    'visibility',\n",
    "    'pedcount',\n",
    "    'res',\n",
    "    'hours24', \n",
    "]\n",
    "\n",
    "for c in col_to_square:\n",
    "    df['{}_sq'.format(c)] = df[c] ** 2\n",
    "    \n",
    "df.head()"
   ]
  },
  {
   "cell_type": "code",
   "execution_count": 75,
   "metadata": {
    "collapsed": false
   },
   "outputs": [
    {
     "data": {
      "text/plain": [
       "['sales',\n",
       " 'profit',\n",
       " 'mtenure',\n",
       " 'ctenure',\n",
       " 'pop',\n",
       " 'comp',\n",
       " 'visibility',\n",
       " 'pedcount',\n",
       " 'res',\n",
       " 'hours24',\n",
       " 'mtenure_sq',\n",
       " 'ctenure_sq',\n",
       " 'pop_sq',\n",
       " 'comp_sq',\n",
       " 'visibility_sq',\n",
       " 'pedcount_sq',\n",
       " 'res_sq',\n",
       " 'hours24_sq']"
      ]
     },
     "execution_count": 75,
     "metadata": {},
     "output_type": "execute_result"
    }
   ],
   "source": [
    "df.columns.tolist()"
   ]
  },
  {
   "cell_type": "code",
   "execution_count": 76,
   "metadata": {
    "collapsed": false
   },
   "outputs": [
    {
     "data": {
      "text/html": [
       "<table class=\"simpletable\">\n",
       "<caption>OLS Regression Results</caption>\n",
       "<tr>\n",
       "  <th>Dep. Variable:</th>         <td>profit</td>      <th>  R-squared:         </th> <td>   0.237</td>\n",
       "</tr>\n",
       "<tr>\n",
       "  <th>Model:</th>                   <td>OLS</td>       <th>  Adj. R-squared:    </th> <td>   0.193</td>\n",
       "</tr>\n",
       "<tr>\n",
       "  <th>Method:</th>             <td>Least Squares</td>  <th>  F-statistic:       </th> <td>   5.436</td>\n",
       "</tr>\n",
       "<tr>\n",
       "  <th>Date:</th>             <td>Tue, 07 Feb 2017</td> <th>  Prob (F-statistic):</th> <td>0.000719</td>\n",
       "</tr>\n",
       "<tr>\n",
       "  <th>Time:</th>                 <td>22:22:08</td>     <th>  Log-Likelihood:    </th> <td> -950.84</td>\n",
       "</tr>\n",
       "<tr>\n",
       "  <th>No. Observations:</th>      <td>    75</td>      <th>  AIC:               </th> <td>   1912.</td>\n",
       "</tr>\n",
       "<tr>\n",
       "  <th>Df Residuals:</th>          <td>    70</td>      <th>  BIC:               </th> <td>   1923.</td>\n",
       "</tr>\n",
       "<tr>\n",
       "  <th>Df Model:</th>              <td>     4</td>      <th>                     </th>     <td> </td>   \n",
       "</tr>\n",
       "<tr>\n",
       "  <th>Covariance Type:</th>      <td>nonrobust</td>    <th>                     </th>     <td> </td>   \n",
       "</tr>\n",
       "</table>\n",
       "<table class=\"simpletable\">\n",
       "<tr>\n",
       "       <td></td>         <th>coef</th>     <th>std err</th>      <th>t</th>      <th>P>|t|</th> <th>[95.0% Conf. Int.]</th> \n",
       "</tr>\n",
       "<tr>\n",
       "  <th>const</th>      <td>  2.22e+05</td> <td> 1.89e+04</td> <td>   11.766</td> <td> 0.000</td> <td> 1.84e+05   2.6e+05</td>\n",
       "</tr>\n",
       "<tr>\n",
       "  <th>mtenure</th>    <td> 1176.4313</td> <td>  457.871</td> <td>    2.569</td> <td> 0.012</td> <td>  263.237  2089.626</td>\n",
       "</tr>\n",
       "<tr>\n",
       "  <th>ctenure</th>    <td> 1279.2230</td> <td> 1384.874</td> <td>    0.924</td> <td> 0.359</td> <td>-1482.821  4041.267</td>\n",
       "</tr>\n",
       "<tr>\n",
       "  <th>mtenure_sq</th> <td>   -2.6876</td> <td>    2.058</td> <td>   -1.306</td> <td> 0.196</td> <td>   -6.792     1.416</td>\n",
       "</tr>\n",
       "<tr>\n",
       "  <th>ctenure_sq</th> <td>   -4.8425</td> <td>   13.996</td> <td>   -0.346</td> <td> 0.730</td> <td>  -32.757    23.072</td>\n",
       "</tr>\n",
       "</table>\n",
       "<table class=\"simpletable\">\n",
       "<tr>\n",
       "  <th>Omnibus:</th>       <td> 0.442</td> <th>  Durbin-Watson:     </th> <td>   1.369</td>\n",
       "</tr>\n",
       "<tr>\n",
       "  <th>Prob(Omnibus):</th> <td> 0.802</td> <th>  Jarque-Bera (JB):  </th> <td>   0.598</td>\n",
       "</tr>\n",
       "<tr>\n",
       "  <th>Skew:</th>          <td> 0.137</td> <th>  Prob(JB):          </th> <td>   0.741</td>\n",
       "</tr>\n",
       "<tr>\n",
       "  <th>Kurtosis:</th>      <td> 2.659</td> <th>  Cond. No.          </th> <td>2.82e+04</td>\n",
       "</tr>\n",
       "</table>"
      ],
      "text/plain": [
       "<class 'statsmodels.iolib.summary.Summary'>\n",
       "\"\"\"\n",
       "                            OLS Regression Results                            \n",
       "==============================================================================\n",
       "Dep. Variable:                 profit   R-squared:                       0.237\n",
       "Model:                            OLS   Adj. R-squared:                  0.193\n",
       "Method:                 Least Squares   F-statistic:                     5.436\n",
       "Date:                Tue, 07 Feb 2017   Prob (F-statistic):           0.000719\n",
       "Time:                        22:22:08   Log-Likelihood:                -950.84\n",
       "No. Observations:                  75   AIC:                             1912.\n",
       "Df Residuals:                      70   BIC:                             1923.\n",
       "Df Model:                           4                                         \n",
       "Covariance Type:            nonrobust                                         \n",
       "==============================================================================\n",
       "                 coef    std err          t      P>|t|      [95.0% Conf. Int.]\n",
       "------------------------------------------------------------------------------\n",
       "const        2.22e+05   1.89e+04     11.766      0.000      1.84e+05   2.6e+05\n",
       "mtenure     1176.4313    457.871      2.569      0.012       263.237  2089.626\n",
       "ctenure     1279.2230   1384.874      0.924      0.359     -1482.821  4041.267\n",
       "mtenure_sq    -2.6876      2.058     -1.306      0.196        -6.792     1.416\n",
       "ctenure_sq    -4.8425     13.996     -0.346      0.730       -32.757    23.072\n",
       "==============================================================================\n",
       "Omnibus:                        0.442   Durbin-Watson:                   1.369\n",
       "Prob(Omnibus):                  0.802   Jarque-Bera (JB):                0.598\n",
       "Skew:                           0.137   Prob(JB):                        0.741\n",
       "Kurtosis:                       2.659   Cond. No.                     2.82e+04\n",
       "==============================================================================\n",
       "\n",
       "Warnings:\n",
       "[1] Standard Errors assume that the covariance matrix of the errors is correctly specified.\n",
       "[2] The condition number is large, 2.82e+04. This might indicate that there are\n",
       "strong multicollinearity or other numerical problems.\n",
       "\"\"\""
      ]
     },
     "execution_count": 76,
     "metadata": {},
     "output_type": "execute_result"
    }
   ],
   "source": [
    "X = sm.add_constant(df[[\n",
    "    'mtenure',\n",
    "    'ctenure',\n",
    "    'mtenure_sq',\n",
    "    'ctenure_sq',b\n",
    "]])\n",
    "sm.OLS(df.profit, X).fit().summary()"
   ]
  },
  {
   "cell_type": "code",
   "execution_count": 77,
   "metadata": {
    "collapsed": false
   },
   "outputs": [
    {
     "data": {
      "text/html": [
       "<table class=\"simpletable\">\n",
       "<caption>OLS Regression Results</caption>\n",
       "<tr>\n",
       "  <th>Dep. Variable:</th>         <td>profit</td>      <th>  R-squared:         </th> <td>   0.399</td>\n",
       "</tr>\n",
       "<tr>\n",
       "  <th>Model:</th>                   <td>OLS</td>       <th>  Adj. R-squared:    </th> <td>   0.305</td>\n",
       "</tr>\n",
       "<tr>\n",
       "  <th>Method:</th>             <td>Least Squares</td>  <th>  F-statistic:       </th> <td>   4.244</td>\n",
       "</tr>\n",
       "<tr>\n",
       "  <th>Date:</th>             <td>Tue, 07 Feb 2017</td> <th>  Prob (F-statistic):</th> <td>0.000153</td>\n",
       "</tr>\n",
       "<tr>\n",
       "  <th>Time:</th>                 <td>22:22:54</td>     <th>  Log-Likelihood:    </th> <td> -941.91</td>\n",
       "</tr>\n",
       "<tr>\n",
       "  <th>No. Observations:</th>      <td>    75</td>      <th>  AIC:               </th> <td>   1906.</td>\n",
       "</tr>\n",
       "<tr>\n",
       "  <th>Df Residuals:</th>          <td>    64</td>      <th>  BIC:               </th> <td>   1931.</td>\n",
       "</tr>\n",
       "<tr>\n",
       "  <th>Df Model:</th>              <td>    10</td>      <th>                     </th>     <td> </td>   \n",
       "</tr>\n",
       "<tr>\n",
       "  <th>Covariance Type:</th>      <td>nonrobust</td>    <th>                     </th>     <td> </td>   \n",
       "</tr>\n",
       "</table>\n",
       "<table class=\"simpletable\">\n",
       "<tr>\n",
       "        <td></td>           <th>coef</th>     <th>std err</th>      <th>t</th>      <th>P>|t|</th> <th>[95.0% Conf. Int.]</th> \n",
       "</tr>\n",
       "<tr>\n",
       "  <th>const</th>         <td> 1.913e+05</td> <td> 1.71e+05</td> <td>    1.119</td> <td> 0.267</td> <td> -1.5e+05  5.33e+05</td>\n",
       "</tr>\n",
       "<tr>\n",
       "  <th>pop</th>           <td>   -6.6309</td> <td>    6.439</td> <td>   -1.030</td> <td> 0.307</td> <td>  -19.494     6.232</td>\n",
       "</tr>\n",
       "<tr>\n",
       "  <th>comp</th>          <td>-9987.2133</td> <td> 2.61e+04</td> <td>   -0.383</td> <td> 0.703</td> <td>-6.21e+04  4.21e+04</td>\n",
       "</tr>\n",
       "<tr>\n",
       "  <th>visibility</th>    <td>-2.086e+04</td> <td> 8.57e+04</td> <td>   -0.243</td> <td> 0.808</td> <td>-1.92e+05   1.5e+05</td>\n",
       "</tr>\n",
       "<tr>\n",
       "  <th>pedcount</th>      <td> 1.435e+04</td> <td>  5.1e+04</td> <td>    0.281</td> <td> 0.779</td> <td>-8.75e+04  1.16e+05</td>\n",
       "</tr>\n",
       "<tr>\n",
       "  <th>res</th>           <td> 1.534e+04</td> <td> 2.45e+04</td> <td>    0.626</td> <td> 0.534</td> <td>-3.36e+04  6.43e+04</td>\n",
       "</tr>\n",
       "<tr>\n",
       "  <th>hours24</th>       <td> 1.042e+04</td> <td> 1.31e+04</td> <td>    0.794</td> <td> 0.430</td> <td>-1.58e+04  3.67e+04</td>\n",
       "</tr>\n",
       "<tr>\n",
       "  <th>pop_sq</th>        <td>    0.0004</td> <td>    0.000</td> <td>    1.503</td> <td> 0.138</td> <td>   -0.000     0.001</td>\n",
       "</tr>\n",
       "<tr>\n",
       "  <th>comp_sq</th>       <td> -538.3247</td> <td> 2241.718</td> <td>   -0.240</td> <td> 0.811</td> <td>-5016.671  3940.022</td>\n",
       "</tr>\n",
       "<tr>\n",
       "  <th>visibility_sq</th> <td> 8314.8585</td> <td> 1.31e+04</td> <td>    0.634</td> <td> 0.528</td> <td>-1.79e+04  3.45e+04</td>\n",
       "</tr>\n",
       "<tr>\n",
       "  <th>pedcount_sq</th>   <td> 3827.8011</td> <td> 8682.325</td> <td>    0.441</td> <td> 0.661</td> <td>-1.35e+04  2.12e+04</td>\n",
       "</tr>\n",
       "<tr>\n",
       "  <th>res_sq</th>        <td> 1.534e+04</td> <td> 2.45e+04</td> <td>    0.626</td> <td> 0.534</td> <td>-3.36e+04  6.43e+04</td>\n",
       "</tr>\n",
       "<tr>\n",
       "  <th>hours24_sq</th>    <td> 1.042e+04</td> <td> 1.31e+04</td> <td>    0.794</td> <td> 0.430</td> <td>-1.58e+04  3.67e+04</td>\n",
       "</tr>\n",
       "</table>\n",
       "<table class=\"simpletable\">\n",
       "<tr>\n",
       "  <th>Omnibus:</th>       <td> 6.743</td> <th>  Durbin-Watson:     </th> <td>   2.193</td>\n",
       "</tr>\n",
       "<tr>\n",
       "  <th>Prob(Omnibus):</th> <td> 0.034</td> <th>  Jarque-Bera (JB):  </th> <td>   6.169</td>\n",
       "</tr>\n",
       "<tr>\n",
       "  <th>Skew:</th>          <td> 0.683</td> <th>  Prob(JB):          </th> <td>  0.0458</td>\n",
       "</tr>\n",
       "<tr>\n",
       "  <th>Kurtosis:</th>      <td> 3.331</td> <th>  Cond. No.          </th> <td>1.78e+25</td>\n",
       "</tr>\n",
       "</table>"
      ],
      "text/plain": [
       "<class 'statsmodels.iolib.summary.Summary'>\n",
       "\"\"\"\n",
       "                            OLS Regression Results                            \n",
       "==============================================================================\n",
       "Dep. Variable:                 profit   R-squared:                       0.399\n",
       "Model:                            OLS   Adj. R-squared:                  0.305\n",
       "Method:                 Least Squares   F-statistic:                     4.244\n",
       "Date:                Tue, 07 Feb 2017   Prob (F-statistic):           0.000153\n",
       "Time:                        22:22:54   Log-Likelihood:                -941.91\n",
       "No. Observations:                  75   AIC:                             1906.\n",
       "Df Residuals:                      64   BIC:                             1931.\n",
       "Df Model:                          10                                         \n",
       "Covariance Type:            nonrobust                                         \n",
       "=================================================================================\n",
       "                    coef    std err          t      P>|t|      [95.0% Conf. Int.]\n",
       "---------------------------------------------------------------------------------\n",
       "const          1.913e+05   1.71e+05      1.119      0.267      -1.5e+05  5.33e+05\n",
       "pop              -6.6309      6.439     -1.030      0.307       -19.494     6.232\n",
       "comp          -9987.2133   2.61e+04     -0.383      0.703     -6.21e+04  4.21e+04\n",
       "visibility    -2.086e+04   8.57e+04     -0.243      0.808     -1.92e+05   1.5e+05\n",
       "pedcount       1.435e+04    5.1e+04      0.281      0.779     -8.75e+04  1.16e+05\n",
       "res            1.534e+04   2.45e+04      0.626      0.534     -3.36e+04  6.43e+04\n",
       "hours24        1.042e+04   1.31e+04      0.794      0.430     -1.58e+04  3.67e+04\n",
       "pop_sq            0.0004      0.000      1.503      0.138        -0.000     0.001\n",
       "comp_sq        -538.3247   2241.718     -0.240      0.811     -5016.671  3940.022\n",
       "visibility_sq  8314.8585   1.31e+04      0.634      0.528     -1.79e+04  3.45e+04\n",
       "pedcount_sq    3827.8011   8682.325      0.441      0.661     -1.35e+04  2.12e+04\n",
       "res_sq         1.534e+04   2.45e+04      0.626      0.534     -3.36e+04  6.43e+04\n",
       "hours24_sq     1.042e+04   1.31e+04      0.794      0.430     -1.58e+04  3.67e+04\n",
       "==============================================================================\n",
       "Omnibus:                        6.743   Durbin-Watson:                   2.193\n",
       "Prob(Omnibus):                  0.034   Jarque-Bera (JB):                6.169\n",
       "Skew:                           0.683   Prob(JB):                       0.0458\n",
       "Kurtosis:                       3.331   Cond. No.                     1.78e+25\n",
       "==============================================================================\n",
       "\n",
       "Warnings:\n",
       "[1] Standard Errors assume that the covariance matrix of the errors is correctly specified.\n",
       "[2] The smallest eigenvalue is 8.98e-33. This might indicate that there are\n",
       "strong multicollinearity problems or that the design matrix is singular.\n",
       "\"\"\""
      ]
     },
     "execution_count": 77,
     "metadata": {},
     "output_type": "execute_result"
    }
   ],
   "source": [
    "\n",
    "X = sm.add_constant(df[[\n",
    "    'pop',\n",
    "    'comp',\n",
    "    'visibility',\n",
    "    'pedcount',\n",
    "    'res',\n",
    "    'hours24',\n",
    "    'pop_sq',\n",
    "    'comp_sq',\n",
    "    'visibility_sq',\n",
    "    'pedcount_sq',\n",
    "    'res_sq',\n",
    "    'hours24_sq'\n",
    "]])\n",
    "sm.OLS(df.profit, X).fit().summary()"
   ]
  }
 ],
 "metadata": {
  "kernelspec": {
   "display_name": "wonolo",
   "language": "python",
   "name": "wonolo"
  },
  "language_info": {
   "codemirror_mode": {
    "name": "ipython",
    "version": 3
   },
   "file_extension": ".py",
   "mimetype": "text/x-python",
   "name": "python",
   "nbconvert_exporter": "python",
   "pygments_lexer": "ipython3",
   "version": "3.5.2"
  }
 },
 "nbformat": 4,
 "nbformat_minor": 2
}
